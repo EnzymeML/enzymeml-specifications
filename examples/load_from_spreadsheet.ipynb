{
 "cells": [
  {
   "cell_type": "code",
   "execution_count": 3,
   "metadata": {},
   "outputs": [],
   "source": [
    "from sdRDM.generator import generate_python_api\n",
    "\n",
    "generate_python_api(\"../specifications/enzymeml.md\", \"..\", \"PyEnzyme\")"
   ]
  },
  {
   "cell_type": "code",
   "execution_count": 1,
   "metadata": {},
   "outputs": [],
   "source": [
    "%reload_ext autoreload\n",
    "%autoreload 2\n",
    "\n",
    "from PyEnzyme.core.enzymemldocument import EnzymeMLDocument\n"
   ]
  },
  {
   "cell_type": "code",
   "execution_count": 28,
   "metadata": {},
   "outputs": [
    {
     "name": "stderr",
     "output_type": "stream",
     "text": [
      "/Users/max/miniconda3/envs/enz/lib/python3.11/site-packages/openpyxl/worksheet/_reader.py:329: UserWarning: Data Validation extension is not supported and will be removed\n",
      "  warn(msg)\n",
      "/Users/max/miniconda3/envs/enz/lib/python3.11/site-packages/openpyxl/worksheet/_reader.py:329: UserWarning: Data Validation extension is not supported and will be removed\n",
      "  warn(msg)\n",
      "/Users/max/miniconda3/envs/enz/lib/python3.11/site-packages/openpyxl/worksheet/_reader.py:329: UserWarning: Data Validation extension is not supported and will be removed\n",
      "  warn(msg)\n"
     ]
    },
    {
     "name": "stdout",
     "output_type": "stream",
     "text": [
      "acetaldehyde\n"
     ]
    },
    {
     "name": "stderr",
     "output_type": "stream",
     "text": [
      "/Users/max/miniconda3/envs/enz/lib/python3.11/site-packages/openpyxl/worksheet/_reader.py:329: UserWarning: Data Validation extension is not supported and will be removed\n",
      "  warn(msg)\n"
     ]
    },
    {
     "ename": "AttributeError",
     "evalue": "'Reaction' object has no attribute 'addModifier'",
     "output_type": "error",
     "traceback": [
      "\u001b[0;31m---------------------------------------------------------------------------\u001b[0m",
      "\u001b[0;31mAttributeError\u001b[0m                            Traceback (most recent call last)",
      "\u001b[1;32m/Users/max/Documents/GitHub/enzymeml-specifications/examples/load_from_spreadsheet.ipynb Cell 3\u001b[0m line \u001b[0;36m3\n\u001b[1;32m      <a href='vscode-notebook-cell:/Users/max/Documents/GitHub/enzymeml-specifications/examples/load_from_spreadsheet.ipynb#W2sZmlsZQ%3D%3D?line=0'>1</a>\u001b[0m template_path \u001b[39m=\u001b[39m \u001b[39m\"\u001b[39m\u001b[39mEnzymeML template 96WP draft-0.2.7 2.xlsm\u001b[39m\u001b[39m\"\u001b[39m\n\u001b[0;32m----> <a href='vscode-notebook-cell:/Users/max/Documents/GitHub/enzymeml-specifications/examples/load_from_spreadsheet.ipynb#W2sZmlsZQ%3D%3D?line=2'>3</a>\u001b[0m doc \u001b[39m=\u001b[39m EnzymeMLDocument\u001b[39m.\u001b[39;49mfrom_mtp_template(template_path)\n\u001b[1;32m      <a href='vscode-notebook-cell:/Users/max/Documents/GitHub/enzymeml-specifications/examples/load_from_spreadsheet.ipynb#W2sZmlsZQ%3D%3D?line=3'>4</a>\u001b[0m \u001b[39mprint\u001b[39m(doc)\n",
      "File \u001b[0;32m~/Documents/GitHub/enzymeml-specifications/PyEnzyme/core/enzymemldocument.py:494\u001b[0m, in \u001b[0;36mEnzymeMLDocument.from_mtp_template\u001b[0;34m(cls, path)\u001b[0m\n\u001b[1;32m    492\u001b[0m \u001b[39m@classmethod\u001b[39m\n\u001b[1;32m    493\u001b[0m \u001b[39mdef\u001b[39;00m \u001b[39mfrom_mtp_template\u001b[39m(\u001b[39mcls\u001b[39m, path: \u001b[39mstr\u001b[39m) \u001b[39m-\u001b[39m\u001b[39m>\u001b[39m \u001b[39m\"\u001b[39m\u001b[39mEnzymeMLDocument\u001b[39m\u001b[39m\"\u001b[39m:\n\u001b[0;32m--> 494\u001b[0m     \u001b[39mreturn\u001b[39;00m read_96well_template(\u001b[39mcls\u001b[39;49m, path)\n",
      "File \u001b[0;32m~/Documents/GitHub/enzymeml-specifications/PyEnzyme/ioutils/mtp_template_reader.py:105\u001b[0m, in \u001b[0;36mread_96well_template\u001b[0;34m(cls, path)\u001b[0m\n\u001b[1;32m    102\u001b[0m \u001b[39mprint\u001b[39m(educts)\n\u001b[1;32m    103\u001b[0m reaction \u001b[39m=\u001b[39m Reaction(\u001b[39m*\u001b[39m\u001b[39m*\u001b[39minstance)\n\u001b[0;32m--> 105\u001b[0m add_instances(reaction\u001b[39m.\u001b[39;49maddModifier, modifiers, enzmldoc)\n\u001b[1;32m    106\u001b[0m add_instances(reaction\u001b[39m.\u001b[39maddEduct, educts, enzmldoc)\n\u001b[1;32m    107\u001b[0m add_instances(reaction\u001b[39m.\u001b[39maddProduct, products, enzmldoc)\n",
      "\u001b[0;31mAttributeError\u001b[0m: 'Reaction' object has no attribute 'addModifier'"
     ]
    }
   ],
   "source": [
    "template_path = \"EnzymeML template 96WP draft-0.2.7 2.xlsm\"\n",
    "\n",
    "doc = EnzymeMLDocument.from_mtp_template(template_path)\n",
    "print(doc)"
   ]
  },
  {
   "cell_type": "code",
   "execution_count": 22,
   "metadata": {},
   "outputs": [],
   "source": [
    "from PyEnzyme.core.protein import Protein"
   ]
  },
  {
   "cell_type": "code",
   "execution_count": 23,
   "metadata": {},
   "outputs": [
    {
     "data": {
      "text/plain": [
       "{'id': ModelField(name='id', type=Optional[str], required=False, default_factory='<function IDGenerator>'),\n",
       " 'name': ModelField(name='name', type=str, required=True),\n",
       " 'vessel_id': ModelField(name='vessel_id', type=Union[Vessel, str], required=True),\n",
       " 'init_conc': ModelField(name='init_conc', type=Optional[float], required=False, default=None),\n",
       " 'constant': ModelField(name='constant', type=bool, required=True),\n",
       " 'unit': ModelField(name='unit', type=Optional[str], required=False, default=None),\n",
       " 'uri': ModelField(name='uri', type=Optional[str], required=False, default=None),\n",
       " 'creator_id': ModelField(name='creator_id', type=Optional[str], required=False, default=None),\n",
       " 'sequence': ModelField(name='sequence', type=str, required=True),\n",
       " 'ecnumber': ModelField(name='ecnumber', type=Optional[ConstrainedStrValue], required=False, default=None),\n",
       " 'organism': ModelField(name='organism', type=Optional[str], required=False, default=None),\n",
       " 'organism_tax_id': ModelField(name='organism_tax_id', type=Optional[str], required=False, default=None),\n",
       " 'uniprotid': ModelField(name='uniprotid', type=Optional[str], required=False, default=None),\n",
       " 'ontology': ModelField(name='ontology', type=SBOTerm, required=False, default=<SBOTerm.CATALYST: 'SBO:0000013'>)}"
      ]
     },
     "execution_count": 23,
     "metadata": {},
     "output_type": "execute_result"
    }
   ],
   "source": [
    "Protein.__fields__"
   ]
  },
  {
   "cell_type": "code",
   "execution_count": 3,
   "metadata": {},
   "outputs": [],
   "source": [
    "from PyEnzyme.core.datatypes import DataTypes"
   ]
  },
  {
   "cell_type": "code",
   "execution_count": 4,
   "metadata": {},
   "outputs": [
    {
     "data": {
      "text/plain": [
       "<DataTypes.FLUORESCENCE: 'fluorescence'>"
      ]
     },
     "execution_count": 4,
     "metadata": {},
     "output_type": "execute_result"
    }
   ],
   "source": [
    "DataTypes.FLUORESCENCE"
   ]
  }
 ],
 "metadata": {
  "kernelspec": {
   "display_name": "enz",
   "language": "python",
   "name": "python3"
  },
  "language_info": {
   "codemirror_mode": {
    "name": "ipython",
    "version": 3
   },
   "file_extension": ".py",
   "mimetype": "text/x-python",
   "name": "python",
   "nbconvert_exporter": "python",
   "pygments_lexer": "ipython3",
   "version": "3.11.5"
  }
 },
 "nbformat": 4,
 "nbformat_minor": 2
}
